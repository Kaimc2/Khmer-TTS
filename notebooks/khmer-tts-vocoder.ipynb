{
 "cells": [
  {
   "cell_type": "code",
   "execution_count": 1,
   "metadata": {},
   "outputs": [],
   "source": [
    "import pandas as pd\n",
    "import numpy as np\n",
    "import matplotlib.pyplot as plt\n",
    "import librosa\n",
    "import tqdm\n",
    "import os"
   ]
  },
  {
   "cell_type": "code",
   "execution_count": 4,
   "metadata": {},
   "outputs": [
    {
     "data": {
      "text/html": [
       "<div>\n",
       "<style scoped>\n",
       "    .dataframe tbody tr th:only-of-type {\n",
       "        vertical-align: middle;\n",
       "    }\n",
       "\n",
       "    .dataframe tbody tr th {\n",
       "        vertical-align: top;\n",
       "    }\n",
       "\n",
       "    .dataframe thead th {\n",
       "        text-align: right;\n",
       "    }\n",
       "</style>\n",
       "<table border=\"1\" class=\"dataframe\">\n",
       "  <thead>\n",
       "    <tr style=\"text-align: right;\">\n",
       "      <th></th>\n",
       "      <th>filename</th>\n",
       "      <th>transcript</th>\n",
       "    </tr>\n",
       "  </thead>\n",
       "  <tbody>\n",
       "    <tr>\n",
       "      <th>NaN</th>\n",
       "      <td>khm_0308_0011865648</td>\n",
       "      <td>ស្ពាន កំពង់ ចម្លង អ្នកលឿង នៅ ព្រៃវែង ជា ស្ពាន ...</td>\n",
       "    </tr>\n",
       "    <tr>\n",
       "      <th>NaN</th>\n",
       "      <td>khm_0308_0032157149</td>\n",
       "      <td>ភ្លើង កំពុង ឆាប ឆេះ ផ្ទះ ប្រជា ពលរដ្ឋ នៅ សង្កា...</td>\n",
       "    </tr>\n",
       "    <tr>\n",
       "      <th>NaN</th>\n",
       "      <td>khm_0308_0038959268</td>\n",
       "      <td>អ្នក សុំ ទាន ដេក ប្រកាច់ ម្នាក់ ឯង ក្បែរ ខ្លោង...</td>\n",
       "    </tr>\n",
       "    <tr>\n",
       "      <th>NaN</th>\n",
       "      <td>khm_0308_0054635313</td>\n",
       "      <td>ស្ករ ត្នោត ដែល មាន គុណភាព ល្អ ផលិត នៅ ខេត្ត កំ...</td>\n",
       "    </tr>\n",
       "    <tr>\n",
       "      <th>NaN</th>\n",
       "      <td>khm_0308_0055735195</td>\n",
       "      <td>ភ្នំបាខែង មាន កម្ពស់ តែ ចិត សិប ម៉ែត្រ សោះ</td>\n",
       "    </tr>\n",
       "  </tbody>\n",
       "</table>\n",
       "</div>"
      ],
      "text/plain": [
       "                filename                                         transcript\n",
       "NaN  khm_0308_0011865648  ស្ពាន កំពង់ ចម្លង អ្នកលឿង នៅ ព្រៃវែង ជា ស្ពាន ...\n",
       "NaN  khm_0308_0032157149  ភ្លើង កំពុង ឆាប ឆេះ ផ្ទះ ប្រជា ពលរដ្ឋ នៅ សង្កា...\n",
       "NaN  khm_0308_0038959268  អ្នក សុំ ទាន ដេក ប្រកាច់ ម្នាក់ ឯង ក្បែរ ខ្លោង...\n",
       "NaN  khm_0308_0054635313  ស្ករ ត្នោត ដែល មាន គុណភាព ល្អ ផលិត នៅ ខេត្ត កំ...\n",
       "NaN  khm_0308_0055735195         ភ្នំបាខែង មាន កម្ពស់ តែ ចិត សិប ម៉ែត្រ សោះ"
      ]
     },
     "execution_count": 4,
     "metadata": {},
     "output_type": "execute_result"
    }
   ],
   "source": [
    "output_path = '../dataset'\n",
    "df = pd.read_csv(f\"{output_path}/line_index.tsv\", sep='\\t', names=[\"filename\", \"transcript\"], index_col=1)\n",
    "df.head()"
   ]
  },
  {
   "cell_type": "markdown",
   "metadata": {},
   "source": [
    "### Audio Processing"
   ]
  },
  {
   "cell_type": "code",
   "execution_count": null,
   "metadata": {},
   "outputs": [],
   "source": [
    "def process_audio_files(input_dir, output_dir):\n",
    "    for index, row in tqdm(df.iterrows(), desc=\"Processing\", leave=False):\n",
    "        try:\n",
    "            audio_path = os.path.join(input_dir, f\"{row['filename']}.wav\")\n",
    "            output_path = os.path.join(output_dir, f\"{row['filename']}_mel.npy\")\n",
    "\n",
    "            # Load and process audio\n",
    "            waveform, sample_rate = librosa.load(audio_path, sr=22050)\n",
    "            waveform = waveform / max(abs(waveform))  # Normalize\n",
    "            waveform, _ = librosa.effects.trim(waveform)  # Trim silence\n",
    "\n",
    "            # Compute Mel spectrogram\n",
    "            mel_spectrogram = librosa.feature.melspectrogram(\n",
    "                y=waveform, sr=sample_rate, n_fft=1024, hop_length=256, n_mels=80\n",
    "            )\n",
    "            mel_spectrogram_db = librosa.power_to_db(mel_spectrogram, ref=np.max)\n",
    "\n",
    "            # Save as .npy\n",
    "            np.save(output_path, mel_spectrogram_db)\n",
    "\n",
    "        except RuntimeError as e:\n",
    "            print(f\"Error in batch: {e}\")\n",
    "            continue\n",
    "\n",
    "    print(\"Audio processing completed!\")\n",
    "\n",
    "# Example usage\n",
    "process_audio_files(f\"{output_path}/wavs/\", f\"{output_path}/mels/\")"
   ]
  },
  {
   "cell_type": "code",
   "execution_count": null,
   "metadata": {},
   "outputs": [],
   "source": [
    "def validate_mel_spectrogram(n_batch=3):\n",
    "    count = 1\n",
    "    for idx, row in df.iterrows():\n",
    "        if count > n_batch:\n",
    "          break\n",
    "\n",
    "        # Load the original waveform\n",
    "        audio_path = f\"{output_path}/wavs/{row['filename']}.wav\"\n",
    "        waveform, sr = librosa.load(audio_path, sr=22050)\n",
    "\n",
    "        # Load the Mel spectrogram\n",
    "        mel_path = f\"{output_path}/processed_wavs/{row['filename']}_mel.npy\"\n",
    "        mel_spectrogram = np.load(mel_path)\n",
    "\n",
    "        # Plot the waveform\n",
    "        plt.figure(figsize=(10, 4))\n",
    "        plt.title(\"Waveform\")\n",
    "        librosa.display.waveshow(waveform, sr=sr)\n",
    "        plt.xlabel(\"Time (s)\")\n",
    "        plt.ylabel(\"Amplitude\")\n",
    "        plt.show()\n",
    "\n",
    "        # Plot the Mel spectrogram\n",
    "        plt.figure(figsize=(10, 4))\n",
    "        plt.title(\"Mel Spectrogram\")\n",
    "        librosa.display.specshow(mel_spectrogram, sr=sr, hop_length=256, x_axis='time', y_axis='mel', cmap='viridis')\n",
    "        plt.colorbar(format=\"%+2.0f dB\")\n",
    "        plt.xlabel(\"Time (s)\")\n",
    "        plt.ylabel(\"Mel Frequency\")\n",
    "        plt.show()\n",
    "\n",
    "        count+=1\n",
    "        print(\"\\n\")\n",
    "\n",
    "validate_mel_spectrogram()"
   ]
  }
 ],
 "metadata": {
  "kernelspec": {
   "display_name": "my-env",
   "language": "python",
   "name": "python3"
  },
  "language_info": {
   "codemirror_mode": {
    "name": "ipython",
    "version": 3
   },
   "file_extension": ".py",
   "mimetype": "text/x-python",
   "name": "python",
   "nbconvert_exporter": "python",
   "pygments_lexer": "ipython3",
   "version": "3.12.3"
  }
 },
 "nbformat": 4,
 "nbformat_minor": 2
}
